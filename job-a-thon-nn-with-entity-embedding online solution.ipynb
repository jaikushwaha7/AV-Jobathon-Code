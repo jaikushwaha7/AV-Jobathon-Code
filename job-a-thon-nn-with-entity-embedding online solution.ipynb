{
 "cells": [
  {
   "cell_type": "code",
   "execution_count": 1,
   "metadata": {
    "execution": {
     "iopub.execute_input": "2021-02-28T17:30:31.794386Z",
     "iopub.status.busy": "2021-02-28T17:30:31.793642Z",
     "iopub.status.idle": "2021-02-28T17:30:38.538789Z",
     "shell.execute_reply": "2021-02-28T17:30:38.537554Z"
    },
    "papermill": {
     "duration": 6.768173,
     "end_time": "2021-02-28T17:30:38.539019",
     "exception": false,
     "start_time": "2021-02-28T17:30:31.770846",
     "status": "completed"
    },
    "tags": []
   },
   "outputs": [],
   "source": [
    "import numpy as np \n",
    "import pandas as pd \n",
    "import os\n",
    "seed = 123\n",
    "from sklearn.preprocessing import StandardScaler, LabelEncoder\n",
    "from sklearn.decomposition import PCA\n",
    "from sklearn.metrics import roc_auc_score\n",
    "from sklearn.model_selection import train_test_split, cross_val_score\n",
    "\n",
    "from catboost import CatBoostClassifier \n",
    "from skopt.space import Real, Categorical, Integer\n",
    "import tensorflow_addons as tfa\n",
    "import tensorflow as tf\n",
    "import matplotlib.pyplot as plt\n",
    "use_pretrained =  False\n",
    "use_pca = False"
   ]
  },
  {
   "cell_type": "code",
   "execution_count": 2,
   "metadata": {
    "_cell_guid": "b1076dfc-b9ad-4769-8c92-a6c4dae69d19",
    "_uuid": "8f2839f25d086af736a60e9eeb907d3b93b6e0e5",
    "execution": {
     "iopub.execute_input": "2021-02-28T17:30:38.574185Z",
     "iopub.status.busy": "2021-02-28T17:30:38.573456Z",
     "iopub.status.idle": "2021-02-28T17:30:38.587997Z",
     "shell.execute_reply": "2021-02-28T17:30:38.587456Z"
    },
    "papermill": {
     "duration": 0.033308,
     "end_time": "2021-02-28T17:30:38.588137",
     "exception": false,
     "start_time": "2021-02-28T17:30:38.554829",
     "status": "completed"
    },
    "tags": []
   },
   "outputs": [
    {
     "name": "stdout",
     "output_type": "stream",
     "text": [
      "/kaggle/input/jobathon-analytics-vidhya/sample_submission.csv\n",
      "/kaggle/input/jobathon-analytics-vidhya/train.csv\n",
      "/kaggle/input/jobathon-analytics-vidhya/test.csv\n",
      "/kaggle/input/jobathon/y.csv\n",
      "/kaggle/input/jobathon/tabnet4_2021-02-27_0.703923581379631.csv\n",
      "/kaggle/input/jobathon/test.csv\n",
      "/kaggle/input/jobathon/x.csv\n"
     ]
    }
   ],
   "source": [
    "\n",
    "for dirname, _, filenames in os.walk('/kaggle/input'):\n",
    "    for filename in filenames:\n",
    "        print(os.path.join(dirname, filename))\n"
   ]
  },
  {
   "cell_type": "code",
   "execution_count": 3,
   "metadata": {
    "execution": {
     "iopub.execute_input": "2021-02-28T17:30:38.627913Z",
     "iopub.status.busy": "2021-02-28T17:30:38.627287Z",
     "iopub.status.idle": "2021-02-28T17:30:38.884625Z",
     "shell.execute_reply": "2021-02-28T17:30:38.883826Z"
    },
    "papermill": {
     "duration": 0.280429,
     "end_time": "2021-02-28T17:30:38.884814",
     "exception": false,
     "start_time": "2021-02-28T17:30:38.604385",
     "status": "completed"
    },
    "tags": []
   },
   "outputs": [
    {
     "data": {
      "text/html": [
       "<div>\n",
       "<style scoped>\n",
       "    .dataframe tbody tr th:only-of-type {\n",
       "        vertical-align: middle;\n",
       "    }\n",
       "\n",
       "    .dataframe tbody tr th {\n",
       "        vertical-align: top;\n",
       "    }\n",
       "\n",
       "    .dataframe thead th {\n",
       "        text-align: right;\n",
       "    }\n",
       "</style>\n",
       "<table border=\"1\" class=\"dataframe\">\n",
       "  <thead>\n",
       "    <tr style=\"text-align: right;\">\n",
       "      <th></th>\n",
       "      <th>City_Code</th>\n",
       "      <th>Region_Code</th>\n",
       "      <th>Accomodation_Type</th>\n",
       "      <th>Reco_Insurance_Type</th>\n",
       "      <th>Upper_Age</th>\n",
       "      <th>Lower_Age</th>\n",
       "      <th>Is_Spouse</th>\n",
       "      <th>Health_Indicator</th>\n",
       "      <th>Holding_Policy_Duration</th>\n",
       "      <th>Holding_Policy_Type</th>\n",
       "      <th>Reco_Policy_Cat</th>\n",
       "      <th>Reco_Policy_Premium</th>\n",
       "      <th>Response</th>\n",
       "    </tr>\n",
       "  </thead>\n",
       "  <tbody>\n",
       "    <tr>\n",
       "      <th>0</th>\n",
       "      <td>C3</td>\n",
       "      <td>3213</td>\n",
       "      <td>Rented</td>\n",
       "      <td>Individual</td>\n",
       "      <td>36</td>\n",
       "      <td>36</td>\n",
       "      <td>No</td>\n",
       "      <td>X1</td>\n",
       "      <td>14+</td>\n",
       "      <td>3.0</td>\n",
       "      <td>22</td>\n",
       "      <td>11628.0</td>\n",
       "      <td>0</td>\n",
       "    </tr>\n",
       "    <tr>\n",
       "      <th>1</th>\n",
       "      <td>C5</td>\n",
       "      <td>1117</td>\n",
       "      <td>Owned</td>\n",
       "      <td>Joint</td>\n",
       "      <td>75</td>\n",
       "      <td>22</td>\n",
       "      <td>No</td>\n",
       "      <td>X2</td>\n",
       "      <td>NaN</td>\n",
       "      <td>NaN</td>\n",
       "      <td>22</td>\n",
       "      <td>30510.0</td>\n",
       "      <td>0</td>\n",
       "    </tr>\n",
       "    <tr>\n",
       "      <th>2</th>\n",
       "      <td>C5</td>\n",
       "      <td>3732</td>\n",
       "      <td>Owned</td>\n",
       "      <td>Individual</td>\n",
       "      <td>32</td>\n",
       "      <td>32</td>\n",
       "      <td>No</td>\n",
       "      <td>NaN</td>\n",
       "      <td>1.0</td>\n",
       "      <td>1.0</td>\n",
       "      <td>19</td>\n",
       "      <td>7450.0</td>\n",
       "      <td>1</td>\n",
       "    </tr>\n",
       "    <tr>\n",
       "      <th>3</th>\n",
       "      <td>C24</td>\n",
       "      <td>4378</td>\n",
       "      <td>Owned</td>\n",
       "      <td>Joint</td>\n",
       "      <td>52</td>\n",
       "      <td>48</td>\n",
       "      <td>No</td>\n",
       "      <td>X1</td>\n",
       "      <td>14+</td>\n",
       "      <td>3.0</td>\n",
       "      <td>19</td>\n",
       "      <td>17780.0</td>\n",
       "      <td>0</td>\n",
       "    </tr>\n",
       "    <tr>\n",
       "      <th>4</th>\n",
       "      <td>C8</td>\n",
       "      <td>2190</td>\n",
       "      <td>Rented</td>\n",
       "      <td>Individual</td>\n",
       "      <td>44</td>\n",
       "      <td>44</td>\n",
       "      <td>No</td>\n",
       "      <td>X2</td>\n",
       "      <td>3.0</td>\n",
       "      <td>1.0</td>\n",
       "      <td>16</td>\n",
       "      <td>10404.0</td>\n",
       "      <td>0</td>\n",
       "    </tr>\n",
       "  </tbody>\n",
       "</table>\n",
       "</div>"
      ],
      "text/plain": [
       "  City_Code  Region_Code Accomodation_Type Reco_Insurance_Type  Upper_Age  \\\n",
       "0        C3         3213            Rented          Individual         36   \n",
       "1        C5         1117             Owned               Joint         75   \n",
       "2        C5         3732             Owned          Individual         32   \n",
       "3       C24         4378             Owned               Joint         52   \n",
       "4        C8         2190            Rented          Individual         44   \n",
       "\n",
       "   Lower_Age Is_Spouse Health_Indicator Holding_Policy_Duration  \\\n",
       "0         36        No               X1                     14+   \n",
       "1         22        No               X2                     NaN   \n",
       "2         32        No              NaN                     1.0   \n",
       "3         48        No               X1                     14+   \n",
       "4         44        No               X2                     3.0   \n",
       "\n",
       "   Holding_Policy_Type  Reco_Policy_Cat  Reco_Policy_Premium  Response  \n",
       "0                  3.0               22              11628.0         0  \n",
       "1                  NaN               22              30510.0         0  \n",
       "2                  1.0               19               7450.0         1  \n",
       "3                  3.0               19              17780.0         0  \n",
       "4                  1.0               16              10404.0         0  "
      ]
     },
     "execution_count": 3,
     "metadata": {},
     "output_type": "execute_result"
    }
   ],
   "source": [
    "train = pd.read_csv(\"../input/jobathon-analytics-vidhya/train.csv\")\n",
    "test = pd.read_csv(\"../input/jobathon-analytics-vidhya/test.csv\")\n",
    "sample = pd.read_csv(\"../input/jobathon-analytics-vidhya/sample_submission.csv\")\n",
    "train.rename(columns={'Health Indicator': 'Health_Indicator'}, inplace=True)\n",
    "test.rename(columns={'Health Indicator': 'Health_Indicator'}, inplace=True)\n",
    "train = train.drop([\"ID\"], axis=1)\n",
    "test = test.drop([\"ID\"], axis=1)\n",
    "train.head()"
   ]
  },
  {
   "cell_type": "code",
   "execution_count": 4,
   "metadata": {
    "execution": {
     "iopub.execute_input": "2021-02-28T17:30:38.926285Z",
     "iopub.status.busy": "2021-02-28T17:30:38.925574Z",
     "iopub.status.idle": "2021-02-28T17:30:38.930046Z",
     "shell.execute_reply": "2021-02-28T17:30:38.929245Z"
    },
    "papermill": {
     "duration": 0.026442,
     "end_time": "2021-02-28T17:30:38.930204",
     "exception": false,
     "start_time": "2021-02-28T17:30:38.903762",
     "status": "completed"
    },
    "tags": []
   },
   "outputs": [],
   "source": [
    "if use_pretrained:\n",
    "    train = pd.read_csv('/kaggle/input/jobathon/x.csv')\n",
    "    test = pd.read_csv('/kaggle/input/jobathon/test.csv')\n",
    "    y = pd.read_csv('/kaggle/input/jobathon/y.csv')"
   ]
  },
  {
   "cell_type": "code",
   "execution_count": 5,
   "metadata": {
    "execution": {
     "iopub.execute_input": "2021-02-28T17:30:38.984544Z",
     "iopub.status.busy": "2021-02-28T17:30:38.983519Z",
     "iopub.status.idle": "2021-02-28T17:30:38.988075Z",
     "shell.execute_reply": "2021-02-28T17:30:38.988698Z"
    },
    "papermill": {
     "duration": 0.042201,
     "end_time": "2021-02-28T17:30:38.988868",
     "exception": false,
     "start_time": "2021-02-28T17:30:38.946667",
     "status": "completed"
    },
    "tags": []
   },
   "outputs": [
    {
     "data": {
      "text/html": [
       "<div>\n",
       "<style scoped>\n",
       "    .dataframe tbody tr th:only-of-type {\n",
       "        vertical-align: middle;\n",
       "    }\n",
       "\n",
       "    .dataframe tbody tr th {\n",
       "        vertical-align: top;\n",
       "    }\n",
       "\n",
       "    .dataframe thead th {\n",
       "        text-align: right;\n",
       "    }\n",
       "</style>\n",
       "<table border=\"1\" class=\"dataframe\">\n",
       "  <thead>\n",
       "    <tr style=\"text-align: right;\">\n",
       "      <th></th>\n",
       "      <th>City_Code</th>\n",
       "      <th>Region_Code</th>\n",
       "      <th>Accomodation_Type</th>\n",
       "      <th>Reco_Insurance_Type</th>\n",
       "      <th>Upper_Age</th>\n",
       "      <th>Lower_Age</th>\n",
       "      <th>Is_Spouse</th>\n",
       "      <th>Health_Indicator</th>\n",
       "      <th>Holding_Policy_Duration</th>\n",
       "      <th>Holding_Policy_Type</th>\n",
       "      <th>Reco_Policy_Cat</th>\n",
       "      <th>Reco_Policy_Premium</th>\n",
       "      <th>Response</th>\n",
       "    </tr>\n",
       "  </thead>\n",
       "  <tbody>\n",
       "    <tr>\n",
       "      <th>0</th>\n",
       "      <td>C3</td>\n",
       "      <td>3213</td>\n",
       "      <td>Rented</td>\n",
       "      <td>Individual</td>\n",
       "      <td>36</td>\n",
       "      <td>36</td>\n",
       "      <td>No</td>\n",
       "      <td>X1</td>\n",
       "      <td>14+</td>\n",
       "      <td>3.0</td>\n",
       "      <td>22</td>\n",
       "      <td>11628.0</td>\n",
       "      <td>0</td>\n",
       "    </tr>\n",
       "    <tr>\n",
       "      <th>1</th>\n",
       "      <td>C5</td>\n",
       "      <td>1117</td>\n",
       "      <td>Owned</td>\n",
       "      <td>Joint</td>\n",
       "      <td>75</td>\n",
       "      <td>22</td>\n",
       "      <td>No</td>\n",
       "      <td>X2</td>\n",
       "      <td>NaN</td>\n",
       "      <td>NaN</td>\n",
       "      <td>22</td>\n",
       "      <td>30510.0</td>\n",
       "      <td>0</td>\n",
       "    </tr>\n",
       "    <tr>\n",
       "      <th>2</th>\n",
       "      <td>C5</td>\n",
       "      <td>3732</td>\n",
       "      <td>Owned</td>\n",
       "      <td>Individual</td>\n",
       "      <td>32</td>\n",
       "      <td>32</td>\n",
       "      <td>No</td>\n",
       "      <td>NaN</td>\n",
       "      <td>1.0</td>\n",
       "      <td>1.0</td>\n",
       "      <td>19</td>\n",
       "      <td>7450.0</td>\n",
       "      <td>1</td>\n",
       "    </tr>\n",
       "    <tr>\n",
       "      <th>3</th>\n",
       "      <td>C24</td>\n",
       "      <td>4378</td>\n",
       "      <td>Owned</td>\n",
       "      <td>Joint</td>\n",
       "      <td>52</td>\n",
       "      <td>48</td>\n",
       "      <td>No</td>\n",
       "      <td>X1</td>\n",
       "      <td>14+</td>\n",
       "      <td>3.0</td>\n",
       "      <td>19</td>\n",
       "      <td>17780.0</td>\n",
       "      <td>0</td>\n",
       "    </tr>\n",
       "    <tr>\n",
       "      <th>4</th>\n",
       "      <td>C8</td>\n",
       "      <td>2190</td>\n",
       "      <td>Rented</td>\n",
       "      <td>Individual</td>\n",
       "      <td>44</td>\n",
       "      <td>44</td>\n",
       "      <td>No</td>\n",
       "      <td>X2</td>\n",
       "      <td>3.0</td>\n",
       "      <td>1.0</td>\n",
       "      <td>16</td>\n",
       "      <td>10404.0</td>\n",
       "      <td>0</td>\n",
       "    </tr>\n",
       "  </tbody>\n",
       "</table>\n",
       "</div>"
      ],
      "text/plain": [
       "  City_Code  Region_Code Accomodation_Type Reco_Insurance_Type  Upper_Age  \\\n",
       "0        C3         3213            Rented          Individual         36   \n",
       "1        C5         1117             Owned               Joint         75   \n",
       "2        C5         3732             Owned          Individual         32   \n",
       "3       C24         4378             Owned               Joint         52   \n",
       "4        C8         2190            Rented          Individual         44   \n",
       "\n",
       "   Lower_Age Is_Spouse Health_Indicator Holding_Policy_Duration  \\\n",
       "0         36        No               X1                     14+   \n",
       "1         22        No               X2                     NaN   \n",
       "2         32        No              NaN                     1.0   \n",
       "3         48        No               X1                     14+   \n",
       "4         44        No               X2                     3.0   \n",
       "\n",
       "   Holding_Policy_Type  Reco_Policy_Cat  Reco_Policy_Premium  Response  \n",
       "0                  3.0               22              11628.0         0  \n",
       "1                  NaN               22              30510.0         0  \n",
       "2                  1.0               19               7450.0         1  \n",
       "3                  3.0               19              17780.0         0  \n",
       "4                  1.0               16              10404.0         0  "
      ]
     },
     "execution_count": 5,
     "metadata": {},
     "output_type": "execute_result"
    }
   ],
   "source": [
    "train.head()"
   ]
  },
  {
   "cell_type": "code",
   "execution_count": 6,
   "metadata": {
    "execution": {
     "iopub.execute_input": "2021-02-28T17:30:39.029845Z",
     "iopub.status.busy": "2021-02-28T17:30:39.028007Z",
     "iopub.status.idle": "2021-02-28T17:30:39.030517Z",
     "shell.execute_reply": "2021-02-28T17:30:39.030983Z"
    },
    "papermill": {
     "duration": 0.024315,
     "end_time": "2021-02-28T17:30:39.031116",
     "exception": false,
     "start_time": "2021-02-28T17:30:39.006801",
     "status": "completed"
    },
    "tags": []
   },
   "outputs": [],
   "source": [
    "cat_cols = ['City_Code', 'Region_Code', 'Accomodation_Type', 'Reco_Insurance_Type', 'Upper_Age', 'Lower_Age', 'Is_Spouse', 'Health_Indicator', \n",
    "            'Holding_Policy_Duration',  'Holding_Policy_Type', 'Reco_Policy_Cat']\n",
    "numeric_col = 'Reco_Policy_Premium'\n",
    "target = 'Response'"
   ]
  },
  {
   "cell_type": "code",
   "execution_count": 7,
   "metadata": {
    "execution": {
     "iopub.execute_input": "2021-02-28T17:30:39.069952Z",
     "iopub.status.busy": "2021-02-28T17:30:39.069155Z",
     "iopub.status.idle": "2021-02-28T17:30:39.076102Z",
     "shell.execute_reply": "2021-02-28T17:30:39.075625Z"
    },
    "papermill": {
     "duration": 0.027985,
     "end_time": "2021-02-28T17:30:39.076215",
     "exception": false,
     "start_time": "2021-02-28T17:30:39.048230",
     "status": "completed"
    },
    "tags": []
   },
   "outputs": [],
   "source": [
    "scalar = StandardScaler()\n",
    "train[numeric_col] = scalar.fit_transform(train[numeric_col].values.reshape((-1,1)))\n",
    "test[numeric_col] = scalar.fit_transform(test[numeric_col].values.reshape((-1,1)))"
   ]
  },
  {
   "cell_type": "code",
   "execution_count": 8,
   "metadata": {
    "execution": {
     "iopub.execute_input": "2021-02-28T17:30:39.118042Z",
     "iopub.status.busy": "2021-02-28T17:30:39.117208Z",
     "iopub.status.idle": "2021-02-28T17:30:39.150013Z",
     "shell.execute_reply": "2021-02-28T17:30:39.150532Z"
    },
    "papermill": {
     "duration": 0.057113,
     "end_time": "2021-02-28T17:30:39.150687",
     "exception": false,
     "start_time": "2021-02-28T17:30:39.093574",
     "status": "completed"
    },
    "tags": []
   },
   "outputs": [
    {
     "name": "stdout",
     "output_type": "stream",
     "text": [
      " City_Code --> 36\n",
      " Region_Code --> 5316\n",
      " Accomodation_Type --> 2\n",
      " Reco_Insurance_Type --> 2\n",
      " Upper_Age --> 58\n",
      " Lower_Age --> 60\n",
      " Is_Spouse --> 2\n",
      " Health_Indicator --> 9\n",
      " Holding_Policy_Duration --> 15\n",
      " Holding_Policy_Type --> 4\n",
      " Reco_Policy_Cat --> 22\n"
     ]
    }
   ],
   "source": [
    "for col in cat_cols:\n",
    "    print(f' {col} --> {train[col].nunique()}')"
   ]
  },
  {
   "cell_type": "code",
   "execution_count": 9,
   "metadata": {
    "execution": {
     "iopub.execute_input": "2021-02-28T17:30:39.206068Z",
     "iopub.status.busy": "2021-02-28T17:30:39.205214Z",
     "iopub.status.idle": "2021-02-28T17:30:42.443662Z",
     "shell.execute_reply": "2021-02-28T17:30:42.442847Z"
    },
    "papermill": {
     "duration": 3.274338,
     "end_time": "2021-02-28T17:30:42.443806",
     "exception": false,
     "start_time": "2021-02-28T17:30:39.169468",
     "status": "completed"
    },
    "tags": []
   },
   "outputs": [
    {
     "name": "stdout",
     "output_type": "stream",
     "text": [
      "City_Code unique_value --> 36\n",
      "City_Code embedding size 18\n",
      "Region_Code unique_value --> 5316\n",
      "Region_Code embedding size 50\n",
      "Accomodation_Type unique_value --> 2\n",
      "Accomodation_Type embedding size 1\n",
      "Reco_Insurance_Type unique_value --> 2\n",
      "Reco_Insurance_Type embedding size 1\n",
      "Upper_Age unique_value --> 58\n",
      "Upper_Age embedding size 29\n",
      "Lower_Age unique_value --> 60\n",
      "Lower_Age embedding size 30\n",
      "Is_Spouse unique_value --> 2\n",
      "Is_Spouse embedding size 1\n",
      "Health_Indicator unique_value --> 9\n",
      "Health_Indicator embedding size 5\n",
      "Holding_Policy_Duration unique_value --> 15\n",
      "Holding_Policy_Duration embedding size 8\n",
      "Holding_Policy_Type unique_value --> 4\n",
      "Holding_Policy_Type embedding size 2\n",
      "Reco_Policy_Cat unique_value --> 22\n",
      "Reco_Policy_Cat embedding size 11\n"
     ]
    }
   ],
   "source": [
    "# preparing embedding inputs layers\n",
    "inputs = []\n",
    "models = []\n",
    "\n",
    "def create_mlp(train, cat_cols):\n",
    "\n",
    "    for col in cat_cols:\n",
    "        num_of_unique = int(train[col].nunique())\n",
    "        embedding_size = int(min(np.ceil(num_of_unique/2), 50))\n",
    "        print(f'{col} unique_value --> {num_of_unique}')\n",
    "        print(f'{col} embedding size {embedding_size}')\n",
    "\n",
    "        cat_in = tf.keras.layers.Input(shape=(1,))\n",
    "        x = tf.keras.layers.Embedding(num_of_unique + 1,embedding_size, name=col )(cat_in)\n",
    "        x = tf.keras.layers.SpatialDropout1D(0.3)(x)\n",
    "        out = tf.keras.layers.Reshape(target_shape=(embedding_size,))(x)\n",
    "        inputs.append(cat_in)\n",
    "        models.append(out)\n",
    "\n",
    "\n",
    "    numeric_in = tf.keras.layers.Input(shape=(1,), name='Reco_Policy_Premium')\n",
    "    out = tf.keras.layers.Dense(2048, activation='relu' )(numeric_in)\n",
    "    out =  tf.keras.layers.Dense(1024, activation='relu' )(out)\n",
    "    inputs.append(numeric_in)\n",
    "    models.append(out)\n",
    "\n",
    "    # dense layers\n",
    "    model = tf.keras.layers.Concatenate()(models)\n",
    "\n",
    "    x = tf.keras.layers.Dense(1024, activation='relu')(model)\n",
    "    x = tf.keras.layers.Dropout(.35)(x)\n",
    "    x = tf.keras.layers.Dense(512, activation='relu')(x)\n",
    "    x = tf.keras.layers.Dropout(.15)(x)\n",
    "    x = tf.keras.layers.Dense(256, activation='relu')(x)\n",
    "    x = tf.keras.layers.Dropout(.15)(x)\n",
    "    output = tf.keras.layers.Dense(1, activation='sigmoid')(x)\n",
    "    \n",
    "\n",
    "\n",
    "\n",
    "    model = tf.keras.Model(inputs, output)\n",
    "    model.compile(loss='binary_crossentropy', optimizer='adam', metrics=['AUC'])\n",
    "    return model\n",
    "    print('model compiled')\n",
    "model = create_mlp(train, cat_cols)"
   ]
  },
  {
   "cell_type": "code",
   "execution_count": 10,
   "metadata": {
    "execution": {
     "iopub.execute_input": "2021-02-28T17:30:42.487511Z",
     "iopub.status.busy": "2021-02-28T17:30:42.486866Z",
     "iopub.status.idle": "2021-02-28T17:30:42.552582Z",
     "shell.execute_reply": "2021-02-28T17:30:42.552048Z"
    },
    "papermill": {
     "duration": 0.089405,
     "end_time": "2021-02-28T17:30:42.552719",
     "exception": false,
     "start_time": "2021-02-28T17:30:42.463314",
     "status": "completed"
    },
    "tags": []
   },
   "outputs": [
    {
     "data": {
      "text/plain": [
       "((40705, 12), (21805, 12))"
      ]
     },
     "execution_count": 10,
     "metadata": {},
     "output_type": "execute_result"
    }
   ],
   "source": [
    "train_x, test_x, train_y, test_y = train_test_split(train.drop(target, axis=1), train[target], stratify=train[target], random_state=seed, test_size=0.2)\n",
    "train_x.shape, test.shape"
   ]
  },
  {
   "cell_type": "code",
   "execution_count": 11,
   "metadata": {
    "execution": {
     "iopub.execute_input": "2021-02-28T17:30:42.596807Z",
     "iopub.status.busy": "2021-02-28T17:30:42.596130Z",
     "iopub.status.idle": "2021-02-28T17:30:43.882311Z",
     "shell.execute_reply": "2021-02-28T17:30:43.881772Z"
    },
    "papermill": {
     "duration": 1.309565,
     "end_time": "2021-02-28T17:30:43.882454",
     "exception": false,
     "start_time": "2021-02-28T17:30:42.572889",
     "status": "completed"
    },
    "tags": []
   },
   "outputs": [
    {
     "data": {
      "image/png": "[encoded data removed]",
      "text/plain": [
       "<IPython.core.display.Image object>"
      ]
     },
     "execution_count": 11,
     "metadata": {},
     "output_type": "execute_result"
    }
   ],
   "source": [
    "tf.keras.utils.plot_model(model)"
   ]
  },
  {
   "cell_type": "code",
   "execution_count": 12,
   "metadata": {
    "execution": {
     "iopub.execute_input": "2021-02-28T17:30:43.936821Z",
     "iopub.status.busy": "2021-02-28T17:30:43.935870Z",
     "iopub.status.idle": "2021-02-28T17:30:43.939218Z",
     "shell.execute_reply": "2021-02-28T17:30:43.938687Z"
    },
    "papermill": {
     "duration": 0.034736,
     "end_time": "2021-02-28T17:30:43.939377",
     "exception": false,
     "start_time": "2021-02-28T17:30:43.904641",
     "status": "completed"
    },
    "tags": []
   },
   "outputs": [],
   "source": [
    "if use_pca:\n",
    "    for i in range(20,76, 5):\n",
    "        pca = PCA(n_components=i, svd_solver='full')\n",
    "        pca.fit_transform(train)\n",
    "        print('components: ',i,'explained variance: ', pca.explained_variance_ratio_.sum() * 100)\n",
    "    pca =  PCA(n_components=75, svd_solver='full')\n",
    "    \n",
    "    transformed = pca.fit_transform(train)"
   ]
  },
  {
   "cell_type": "code",
   "execution_count": 13,
   "metadata": {
    "execution": {
     "iopub.execute_input": "2021-02-28T17:30:43.993788Z",
     "iopub.status.busy": "2021-02-28T17:30:43.992834Z",
     "iopub.status.idle": "2021-02-28T17:30:43.996032Z",
     "shell.execute_reply": "2021-02-28T17:30:43.995173Z"
    },
    "papermill": {
     "duration": 0.034428,
     "end_time": "2021-02-28T17:30:43.996171",
     "exception": false,
     "start_time": "2021-02-28T17:30:43.961743",
     "status": "completed"
    },
    "tags": []
   },
   "outputs": [],
   "source": [
    "#converting data to list format to match the network structure\n",
    "def preproc(X_train, X_val, X_test):\n",
    "\n",
    "    input_list_train = []\n",
    "    input_list_val = []\n",
    "    input_list_test = []\n",
    "    \n",
    "    #the cols to be embedded: rescaling to range [0, # values)\n",
    "    for c in cat_cols:\n",
    "        raw_vals = X_train[c].unique()\n",
    "        val_map = {}\n",
    "        for i in range(len(raw_vals)):\n",
    "            val_map[raw_vals[i]] = i       \n",
    "        input_list_train.append(X_train[c].map(val_map).values)\n",
    "        input_list_val.append(X_val[c].map(val_map).fillna(0).values)\n",
    "        input_list_test.append(X_test[c].map(val_map).fillna(0).values)\n",
    "     \n",
    "    #the rest of the columns\n",
    "#     other_cols = [c for c in X_train.columns if (not c in numeric_col)]\n",
    "    input_list_train.append(X_train[numeric_col].values)\n",
    "    input_list_val.append(X_val[numeric_col].values)\n",
    "    input_list_test.append(X_test[numeric_col].values)\n",
    "    \n",
    "    return input_list_train, input_list_val, input_list_test    \n",
    "\n"
   ]
  },
  {
   "cell_type": "code",
   "execution_count": 14,
   "metadata": {
    "execution": {
     "iopub.execute_input": "2021-02-28T17:30:44.050468Z",
     "iopub.status.busy": "2021-02-28T17:30:44.049542Z",
     "iopub.status.idle": "2021-02-28T17:30:44.178631Z",
     "shell.execute_reply": "2021-02-28T17:30:44.178047Z"
    },
    "papermill": {
     "duration": 0.159787,
     "end_time": "2021-02-28T17:30:44.178787",
     "exception": false,
     "start_time": "2021-02-28T17:30:44.019000",
     "status": "completed"
    },
    "tags": []
   },
   "outputs": [],
   "source": [
    "train_x, test_x, test = preproc(train_x, test_x, test)"
   ]
  },
  {
   "cell_type": "code",
   "execution_count": 15,
   "metadata": {
    "collapsed": true,
    "execution": {
     "iopub.execute_input": "2021-02-28T17:30:44.235145Z",
     "iopub.status.busy": "2021-02-28T17:30:44.234362Z",
     "iopub.status.idle": "2021-02-28T17:31:23.601088Z",
     "shell.execute_reply": "2021-02-28T17:31:23.599358Z"
    },
    "papermill": {
     "duration": 39.399138,
     "end_time": "2021-02-28T17:31:23.601263",
     "exception": false,
     "start_time": "2021-02-28T17:30:44.202125",
     "status": "completed"
    },
    "tags": []
   },
   "outputs": [
    {
     "name": "stdout",
     "output_type": "stream",
     "text": [
      "Epoch 1/500\n",
      "80/80 [==============================] - 6s 25ms/step - loss: 0.5701 - auc: 0.5233 - val_loss: 0.5342 - val_auc: 0.6134\n",
      "\n",
      "Epoch 00001: val_auc improved from -inf to 0.61337, saving model to ./model.h5\n",
      "Epoch 2/500\n",
      "80/80 [==============================] - 1s 14ms/step - loss: 0.5188 - auc: 0.6516 - val_loss: 0.5357 - val_auc: 0.6044\n",
      "\n",
      "Epoch 00002: val_auc did not improve from 0.61337\n",
      "Epoch 3/500\n",
      "80/80 [==============================] - 1s 14ms/step - loss: 0.4936 - auc: 0.7180 - val_loss: 0.5392 - val_auc: 0.6104\n",
      "\n",
      "Epoch 00003: val_auc did not improve from 0.61337\n",
      "Epoch 4/500\n",
      "80/80 [==============================] - 1s 14ms/step - loss: 0.4747 - auc: 0.7532 - val_loss: 0.5485 - val_auc: 0.6250\n",
      "\n",
      "Epoch 00004: val_auc improved from 0.61337 to 0.62502, saving model to ./model.h5\n",
      "Epoch 5/500\n",
      "80/80 [==============================] - 1s 14ms/step - loss: 0.4392 - auc: 0.8004 - val_loss: 0.5737 - val_auc: 0.6370\n",
      "\n",
      "Epoch 00005: val_auc improved from 0.62502 to 0.63702, saving model to ./model.h5\n",
      "Epoch 6/500\n",
      "80/80 [==============================] - 1s 15ms/step - loss: 0.4151 - auc: 0.8267 - val_loss: 0.5866 - val_auc: 0.6471\n",
      "\n",
      "Epoch 00006: val_auc improved from 0.63702 to 0.64712, saving model to ./model.h5\n",
      "Epoch 7/500\n",
      "80/80 [==============================] - 2s 19ms/step - loss: 0.4038 - auc: 0.8347 - val_loss: 0.5827 - val_auc: 0.6534\n",
      "\n",
      "Epoch 00007: val_auc improved from 0.64712 to 0.65343, saving model to ./model.h5\n",
      "Epoch 8/500\n",
      "80/80 [==============================] - 1s 16ms/step - loss: 0.3883 - auc: 0.8518 - val_loss: 0.6088 - val_auc: 0.6541\n",
      "\n",
      "Epoch 00008: val_auc improved from 0.65343 to 0.65413, saving model to ./model.h5\n",
      "Epoch 9/500\n",
      "80/80 [==============================] - 1s 15ms/step - loss: 0.3694 - auc: 0.8678 - val_loss: 0.6386 - val_auc: 0.6533\n",
      "\n",
      "Epoch 00009: val_auc did not improve from 0.65413\n",
      "Epoch 10/500\n",
      "80/80 [==============================] - 1s 14ms/step - loss: 0.3507 - auc: 0.8810 - val_loss: 0.6295 - val_auc: 0.6510\n",
      "\n",
      "Epoch 00010: val_auc did not improve from 0.65413\n",
      "Epoch 11/500\n",
      "80/80 [==============================] - 1s 14ms/step - loss: 0.3321 - auc: 0.8934 - val_loss: 0.6971 - val_auc: 0.6493\n",
      "\n",
      "Epoch 00011: val_auc did not improve from 0.65413\n",
      "Epoch 12/500\n",
      "80/80 [==============================] - 1s 14ms/step - loss: 0.3132 - auc: 0.9068 - val_loss: 0.7209 - val_auc: 0.6471\n",
      "\n",
      "Epoch 00012: val_auc did not improve from 0.65413\n",
      "Epoch 13/500\n",
      "80/80 [==============================] - 1s 14ms/step - loss: 0.2882 - auc: 0.9228 - val_loss: 0.7718 - val_auc: 0.6472\n",
      "\n",
      "Epoch 00013: val_auc did not improve from 0.65413\n",
      "Epoch 14/500\n",
      "80/80 [==============================] - 1s 14ms/step - loss: 0.2716 - auc: 0.9338 - val_loss: 0.7850 - val_auc: 0.6424\n",
      "\n",
      "Epoch 00014: val_auc did not improve from 0.65413\n",
      "Epoch 15/500\n",
      "80/80 [==============================] - 1s 15ms/step - loss: 0.2505 - auc: 0.9426 - val_loss: 0.8466 - val_auc: 0.6408\n",
      "\n",
      "Epoch 00015: val_auc did not improve from 0.65413\n",
      "Epoch 16/500\n",
      "80/80 [==============================] - 1s 18ms/step - loss: 0.2317 - auc: 0.9518 - val_loss: 0.8931 - val_auc: 0.6422\n",
      "\n",
      "Epoch 00016: val_auc did not improve from 0.65413\n",
      "Epoch 17/500\n",
      "80/80 [==============================] - 1s 16ms/step - loss: 0.2212 - auc: 0.9561 - val_loss: 0.9153 - val_auc: 0.6421\n",
      "\n",
      "Epoch 00017: val_auc did not improve from 0.65413\n",
      "Epoch 18/500\n",
      "80/80 [==============================] - 1s 14ms/step - loss: 0.2102 - auc: 0.9603 - val_loss: 0.9441 - val_auc: 0.6397\n",
      "\n",
      "Epoch 00018: val_auc did not improve from 0.65413\n",
      "Epoch 19/500\n",
      "80/80 [==============================] - 1s 15ms/step - loss: 0.1954 - auc: 0.9659 - val_loss: 1.0084 - val_auc: 0.6357\n",
      "\n",
      "Epoch 00019: val_auc did not improve from 0.65413\n",
      "Epoch 20/500\n",
      "80/80 [==============================] - 1s 15ms/step - loss: 0.1827 - auc: 0.9703 - val_loss: 1.0247 - val_auc: 0.6376\n",
      "\n",
      "Epoch 00020: val_auc did not improve from 0.65413\n",
      "Epoch 21/500\n",
      "80/80 [==============================] - 1s 16ms/step - loss: 0.1731 - auc: 0.9735 - val_loss: 1.0561 - val_auc: 0.6339\n",
      "\n",
      "Epoch 00021: val_auc did not improve from 0.65413\n",
      "Epoch 22/500\n",
      "80/80 [==============================] - 1s 16ms/step - loss: 0.1717 - auc: 0.9743 - val_loss: 1.1003 - val_auc: 0.6327\n",
      "\n",
      "Epoch 00022: val_auc did not improve from 0.65413\n",
      "Epoch 23/500\n",
      "80/80 [==============================] - 1s 17ms/step - loss: 0.1611 - auc: 0.9770 - val_loss: 1.0738 - val_auc: 0.6323\n",
      "\n",
      "Epoch 00023: val_auc did not improve from 0.65413\n",
      "Epoch 24/500\n",
      "80/80 [==============================] - 2s 24ms/step - loss: 0.1546 - auc: 0.9789 - val_loss: 1.0923 - val_auc: 0.6342\n",
      "\n",
      "Epoch 00024: val_auc did not improve from 0.65413\n",
      "Epoch 25/500\n",
      "80/80 [==============================] - 1s 14ms/step - loss: 0.1512 - auc: 0.9798 - val_loss: 1.2139 - val_auc: 0.6361\n",
      "\n",
      "Epoch 00025: val_auc did not improve from 0.65413\n",
      "Epoch 26/500\n",
      "80/80 [==============================] - 1s 14ms/step - loss: 0.1438 - auc: 0.9821 - val_loss: 1.1826 - val_auc: 0.6371\n",
      "\n",
      "Epoch 00026: val_auc did not improve from 0.65413\n",
      "Epoch 27/500\n",
      "80/80 [==============================] - 1s 16ms/step - loss: 0.1405 - auc: 0.9830 - val_loss: 1.1546 - val_auc: 0.6342\n",
      "Restoring model weights from the end of the best epoch.\n",
      "\n",
      "Epoch 00027: val_auc did not improve from 0.65413\n",
      "Epoch 00027: early stopping\n"
     ]
    }
   ],
   "source": [
    "epochs = 200\n",
    "batch_size = 512\n",
    "\n",
    "\n",
    "earlyStopping = tf.keras.callbacks.EarlyStopping(monitor='val_auc', min_delta=0.001, patience=20,\n",
    "                                 verbose=1, mode='max', baseline=None, restore_best_weights=True)\n",
    "checkpoint = tf.keras.callbacks.ModelCheckpoint('./model.h5', monitor='val_auc', verbose=1, save_best_only=True, mode='max')\n",
    "reduce_lr_loss = tf.keras.callbacks.ReduceLROnPlateau(monitor='val_auc', factor=0.5,\n",
    "                                      patience=20, min_lr=1e-6, mode='max', verbose=1)\n",
    "\n",
    "history = model.fit(train_x, train_y.values, \n",
    "                    validation_data=(test_x, test_y.values),\n",
    "                    callbacks=[earlyStopping, reduce_lr_loss, checkpoint],\n",
    "                    batch_size=batch_size,\n",
    "                    epochs=500)"
   ]
  },
  {
   "cell_type": "code",
   "execution_count": 16,
   "metadata": {
    "execution": {
     "iopub.execute_input": "2021-02-28T17:31:24.043434Z",
     "iopub.status.busy": "2021-02-28T17:31:24.042455Z",
     "iopub.status.idle": "2021-02-28T17:31:24.425905Z",
     "shell.execute_reply": "2021-02-28T17:31:24.424698Z"
    },
    "papermill": {
     "duration": 0.612073,
     "end_time": "2021-02-28T17:31:24.426075",
     "exception": false,
     "start_time": "2021-02-28T17:31:23.814002",
     "status": "completed"
    },
    "tags": []
   },
   "outputs": [],
   "source": [
    "model = tf.keras.models.load_model('./model.h5')\n"
   ]
  },
  {
   "cell_type": "code",
   "execution_count": 17,
   "metadata": {
    "execution": {
     "iopub.execute_input": "2021-02-28T17:31:24.874609Z",
     "iopub.status.busy": "2021-02-28T17:31:24.873638Z",
     "iopub.status.idle": "2021-02-28T17:31:25.048239Z",
     "shell.execute_reply": "2021-02-28T17:31:25.048810Z"
    },
    "papermill": {
     "duration": 0.410184,
     "end_time": "2021-02-28T17:31:25.048989",
     "exception": false,
     "start_time": "2021-02-28T17:31:24.638805",
     "status": "completed"
    },
    "tags": []
   },
   "outputs": [
    {
     "data": {
      "image/png": "[encoded data removed]",
      "text/plain": [
       "<Figure size 432x288 with 1 Axes>"
      ]
     },
     "metadata": {
      "needs_background": "light"
     },
     "output_type": "display_data"
    }
   ],
   "source": [
    "plt.plot(history.history['loss']) \n",
    "plt.plot(history.history['auc']) \n",
    "plt.title('model auc') \n",
    "plt.ylabel('auc')\n",
    "plt.xlabel('epoch') \n",
    "plt.legend(['loss', 'auc'], loc='upper left') \n",
    "plt.show()"
   ]
  },
  {
   "cell_type": "code",
   "execution_count": 18,
   "metadata": {
    "execution": {
     "iopub.execute_input": "2021-02-28T17:31:25.496244Z",
     "iopub.status.busy": "2021-02-28T17:31:25.495019Z",
     "iopub.status.idle": "2021-02-28T17:31:25.519666Z",
     "shell.execute_reply": "2021-02-28T17:31:25.520171Z"
    },
    "papermill": {
     "duration": 0.26021,
     "end_time": "2021-02-28T17:31:25.520335",
     "exception": false,
     "start_time": "2021-02-28T17:31:25.260125",
     "status": "completed"
    },
    "tags": []
   },
   "outputs": [
    {
     "ename": "NameError",
     "evalue": "name 'StratifiedKFold' is not defined",
     "output_type": "error",
     "traceback": [
      "\u001b[0;31m---------------------------------------------------------------------------\u001b[0m",
      "\u001b[0;31mNameError\u001b[0m                                 Traceback (most recent call last)",
      "\u001b[0;32m<ipython-input-18-c6c9c53b8d38>\u001b[0m in \u001b[0;36m<module>\u001b[0;34m\u001b[0m\n\u001b[1;32m      2\u001b[0m \u001b[0mtest_preds\u001b[0m \u001b[0;34m=\u001b[0m \u001b[0mnp\u001b[0m\u001b[0;34m.\u001b[0m\u001b[0mzeros\u001b[0m\u001b[0;34m(\u001b[0m\u001b[0;34m(\u001b[0m\u001b[0mlen\u001b[0m\u001b[0;34m(\u001b[0m\u001b[0mtest\u001b[0m\u001b[0;34m)\u001b[0m\u001b[0;34m)\u001b[0m\u001b[0;34m)\u001b[0m\u001b[0;34m\u001b[0m\u001b[0;34m\u001b[0m\u001b[0m\n\u001b[1;32m      3\u001b[0m \u001b[0;34m\u001b[0m\u001b[0m\n\u001b[0;32m----> 4\u001b[0;31m \u001b[0mskf\u001b[0m \u001b[0;34m=\u001b[0m \u001b[0mStratifiedKFold\u001b[0m\u001b[0;34m(\u001b[0m\u001b[0mn_splits\u001b[0m\u001b[0;34m=\u001b[0m\u001b[0;36m50\u001b[0m\u001b[0;34m)\u001b[0m\u001b[0;34m\u001b[0m\u001b[0;34m\u001b[0m\u001b[0m\n\u001b[0m\u001b[1;32m      5\u001b[0m \u001b[0;32mfor\u001b[0m \u001b[0mtrain_index\u001b[0m\u001b[0;34m,\u001b[0m \u001b[0mtest_index\u001b[0m \u001b[0;32min\u001b[0m \u001b[0mskf\u001b[0m\u001b[0;34m.\u001b[0m\u001b[0msplit\u001b[0m\u001b[0;34m(\u001b[0m\u001b[0mtrain_x\u001b[0m\u001b[0;34m,\u001b[0m \u001b[0mtrain\u001b[0m\u001b[0;34m[\u001b[0m\u001b[0mtarget\u001b[0m\u001b[0;34m]\u001b[0m\u001b[0;34m.\u001b[0m\u001b[0mvalues\u001b[0m\u001b[0;34m)\u001b[0m\u001b[0;34m:\u001b[0m\u001b[0;34m\u001b[0m\u001b[0;34m\u001b[0m\u001b[0m\n\u001b[1;32m      6\u001b[0m     \u001b[0mX_train\u001b[0m\u001b[0;34m,\u001b[0m \u001b[0mX_test\u001b[0m \u001b[0;34m=\u001b[0m \u001b[0mtrain\u001b[0m\u001b[0;34m.\u001b[0m\u001b[0miloc\u001b[0m\u001b[0;34m[\u001b[0m\u001b[0mtrain_index\u001b[0m\u001b[0;34m,\u001b[0m \u001b[0;34m:\u001b[0m\u001b[0;34m]\u001b[0m\u001b[0;34m,\u001b[0m \u001b[0mtrain\u001b[0m\u001b[0;34m.\u001b[0m\u001b[0miloc\u001b[0m\u001b[0;34m[\u001b[0m\u001b[0mtest_index\u001b[0m\u001b[0;34m,\u001b[0m \u001b[0;34m:\u001b[0m\u001b[0;34m]\u001b[0m\u001b[0;34m\u001b[0m\u001b[0;34m\u001b[0m\u001b[0m\n",
      "\u001b[0;31mNameError\u001b[0m: name 'StratifiedKFold' is not defined"
     ]
    }
   ],
   "source": [
    "oof_preds = np.zeros((len(train)))\n",
    "test_preds = np.zeros((len(test)))\n",
    "\n",
    "skf = StratifiedKFold(n_splits=50)\n",
    "for train_index, test_index in skf.split(train_x, train[target].values):\n",
    "    X_train, X_test = train.iloc[train_index, :], train.iloc[test_index, :]\n",
    "    X_train = X_train.reset_index(drop=True)\n",
    "    X_test = X_test.reset_index(drop=True)\n",
    "    y_train, y_test = X_train.target.values, X_test.target.values\n",
    "    train_x, test_x, test = preproc(train_x, test_x, test)\n",
    "    model = create_model(data, features)\n",
    "    model.compile(loss='binary_crossentropy', optimizer='adam', metrics=[auc])\n",
    "    X_train = [X_train.loc[:, features].values[:, k] for k in range(X_train.loc[:, features].values.shape[1])]\n",
    "    X_test = [X_test.loc[:, features].values[:, k] for k in range(X_test.loc[:, features].values.shape[1])]\n",
    "    \n",
    "    earlyStopping = tf.keras.callbacks.EarlyStopping(monitor='val_auc', min_delta=0.001, patience=20,\n",
    "                                 verbose=1, mode='max', baseline=None, restore_best_weights=True)\n",
    "    checkpoint = tf.keras.callbacks.ModelCheckpoint('./model.h5', monitor='val_auc', verbose=1, save_best_only=True, mode='max')\n",
    "    reduce_lr_loss = tf.keras.callbacks.ReduceLROnPlateau(monitor='val_auc', factor=0.5,\n",
    "                                      patience=13, min_lr=1e-6, mode='max', verbose=1)\n",
    "    \n",
    "    model.fit(X_train,\n",
    "              utils.to_categorical(y_train),\n",
    "              validation_data=(X_test, utils.to_categorical(y_test)),\n",
    "              verbose=1,\n",
    "              batch_size=1024,\n",
    "              callbacks=[earlyStopping, checkpoint, reduce_lr_loss],\n",
    "              epochs=100\n",
    "             )\n",
    "    valid_fold_preds = model.predict(X_test)[:, 1]\n",
    "    test_fold_preds = model.predict(test_data)[:, 1]\n",
    "    oof_preds[test_index] = valid_fold_preds.ravel()\n",
    "    test_preds += test_fold_preds.ravel()\n",
    "    print(metrics.roc_auc_score(y_test, valid_fold_preds))\n",
    "    K.clear_session()"
   ]
  },
  {
   "cell_type": "code",
   "execution_count": 19,
   "metadata": {
    "execution": {
     "iopub.execute_input": "2021-02-28T17:31:25.967260Z",
     "iopub.status.busy": "2021-02-28T17:31:25.966589Z",
     "iopub.status.idle": "2021-02-28T17:31:28.164890Z",
     "shell.execute_reply": "2021-02-28T17:31:28.163737Z"
    },
    "papermill": {
     "duration": 2.427902,
     "end_time": "2021-02-28T17:31:28.165062",
     "exception": false,
     "start_time": "2021-02-28T17:31:25.737160",
     "status": "completed"
    },
    "tags": []
   },
   "outputs": [
    {
     "data": {
      "text/html": [
       "<div>\n",
       "<style scoped>\n",
       "    .dataframe tbody tr th:only-of-type {\n",
       "        vertical-align: middle;\n",
       "    }\n",
       "\n",
       "    .dataframe tbody tr th {\n",
       "        vertical-align: top;\n",
       "    }\n",
       "\n",
       "    .dataframe thead th {\n",
       "        text-align: right;\n",
       "    }\n",
       "</style>\n",
       "<table border=\"1\" class=\"dataframe\">\n",
       "  <thead>\n",
       "    <tr style=\"text-align: right;\">\n",
       "      <th></th>\n",
       "      <th>ID</th>\n",
       "      <th>Response</th>\n",
       "    </tr>\n",
       "  </thead>\n",
       "  <tbody>\n",
       "    <tr>\n",
       "      <th>0</th>\n",
       "      <td>50883</td>\n",
       "      <td>0.505611</td>\n",
       "    </tr>\n",
       "    <tr>\n",
       "      <th>1</th>\n",
       "      <td>50884</td>\n",
       "      <td>0.077135</td>\n",
       "    </tr>\n",
       "    <tr>\n",
       "      <th>2</th>\n",
       "      <td>50885</td>\n",
       "      <td>0.139593</td>\n",
       "    </tr>\n",
       "    <tr>\n",
       "      <th>3</th>\n",
       "      <td>50886</td>\n",
       "      <td>0.216910</td>\n",
       "    </tr>\n",
       "    <tr>\n",
       "      <th>4</th>\n",
       "      <td>50887</td>\n",
       "      <td>0.065808</td>\n",
       "    </tr>\n",
       "  </tbody>\n",
       "</table>\n",
       "</div>"
      ],
      "text/plain": [
       "      ID  Response\n",
       "0  50883  0.505611\n",
       "1  50884  0.077135\n",
       "2  50885  0.139593\n",
       "3  50886  0.216910\n",
       "4  50887  0.065808"
      ]
     },
     "execution_count": 19,
     "metadata": {},
     "output_type": "execute_result"
    }
   ],
   "source": [
    "sub = pd.DataFrame(columns=['ID','Response'])\n",
    "test_ = pd.read_csv('../input/jobathon/tabnet4_2021-02-27_0.703923581379631.csv')\n",
    "sub.ID = test_.ID\n",
    "sub.Response = model.predict(test).reshape(-1,)\n",
    "sub.head()"
   ]
  },
  {
   "cell_type": "code",
   "execution_count": 20,
   "metadata": {
    "execution": {
     "iopub.execute_input": "2021-02-28T17:31:28.602932Z",
     "iopub.status.busy": "2021-02-28T17:31:28.601934Z",
     "iopub.status.idle": "2021-02-28T17:31:28.800362Z",
     "shell.execute_reply": "2021-02-28T17:31:28.799753Z"
    },
    "papermill": {
     "duration": 0.421881,
     "end_time": "2021-02-28T17:31:28.800525",
     "exception": false,
     "start_time": "2021-02-28T17:31:28.378644",
     "status": "completed"
    },
    "tags": []
   },
   "outputs": [],
   "source": [
    "sub.to_csv('nn_sub5.csv', index=False)"
   ]
  },
  {
   "cell_type": "code",
   "execution_count": null,
   "metadata": {
    "papermill": {
     "duration": 0.21692,
     "end_time": "2021-02-28T17:31:29.232317",
     "exception": false,
     "start_time": "2021-02-28T17:31:29.015397",
     "status": "completed"
    },
    "tags": []
   },
   "outputs": [],
   "source": []
  },
  {
   "cell_type": "code",
   "execution_count": null,
   "metadata": {
    "papermill": {
     "duration": 0.215578,
     "end_time": "2021-02-28T17:31:29.662173",
     "exception": false,
     "start_time": "2021-02-28T17:31:29.446595",
     "status": "completed"
    },
    "tags": []
   },
   "outputs": [],
   "source": []
  }
 ],
 "metadata": {
  "kernelspec": {
   "display_name": "Python 3",
   "language": "python",
   "name": "python3"
  },
  "language_info": {
   "codemirror_mode": {
    "name": "ipython",
    "version": 3
   },
   "file_extension": ".py",
   "mimetype": "text/x-python",
   "name": "python",
   "nbconvert_exporter": "python",
   "pygments_lexer": "ipython3",
   "version": "3.7.9"
  },
  "papermill": {
   "default_parameters": {},
   "duration": 66.84352,
   "end_time": "2021-02-28T17:31:32.948634",
   "environment_variables": {},
   "exception": null,
   "input_path": "__notebook__.ipynb",
   "output_path": "__notebook__.ipynb",
   "parameters": {},
   "start_time": "2021-02-28T17:30:26.105114",
   "version": "2.2.2"
  }
 },
 "nbformat": 4,
 "nbformat_minor": 4
}
